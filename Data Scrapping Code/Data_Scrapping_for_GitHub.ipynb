{
  "nbformat": 4,
  "nbformat_minor": 0,
  "metadata": {
    "colab": {
      "provenance": [],
      "include_colab_link": true
    },
    "kernelspec": {
      "name": "python3",
      "display_name": "Python 3"
    },
    "language_info": {
      "name": "python"
    },
    "gpuClass": "standard"
  },
  "cells": [
    {
      "cell_type": "markdown",
      "metadata": {
        "id": "view-in-github",
        "colab_type": "text"
      },
      "source": [
        "<a href=\"https://colab.research.google.com/github/Ricco48/Multilabel-Sentiment-and-Emotion-Dataset-from-Indonesian-Mobile-Application-Review/blob/main/Data%20Scrapping%20Code/Data_Scrapping_for_GitHub.ipynb\" target=\"_parent\"><img src=\"https://colab.research.google.com/assets/colab-badge.svg\" alt=\"Open In Colab\"/></a>"
      ]
    },
    {
      "cell_type": "markdown",
      "source": [
        "# **Connect to G-Drive**"
      ],
      "metadata": {
        "id": "twhpiwHeTlKC"
      }
    },
    {
      "cell_type": "code",
      "source": [
        "# Connect To G-Drive\n",
        "#===================\n",
        "from google.colab import drive\n",
        "drive.mount('/content/drive')"
      ],
      "metadata": {
        "id": "E-6o0sM0uYAi"
      },
      "execution_count": null,
      "outputs": []
    },
    {
      "cell_type": "markdown",
      "source": [
        "# **Set Package & Libs.**"
      ],
      "metadata": {
        "id": "GA-Z5K4PTbMr"
      }
    },
    {
      "cell_type": "code",
      "execution_count": null,
      "metadata": {
        "id": "mUAyRfnQ-1l3"
      },
      "outputs": [],
      "source": [
        "# Install Required Libs / Package\n",
        "#================================\n",
        "!pip install google-play-scraper         # Get Google Play Scraper Package"
      ]
    },
    {
      "cell_type": "code",
      "source": [
        "# Import Required Libs / Package\n",
        "#===============================\n",
        "\n",
        "# Package for Data Pre-processing\n",
        "import json\n",
        "import pandas as pd\n",
        "from tqdm import tqdm\n",
        "import csv\n",
        "import datetime\n",
        "import html\n",
        "import re\n",
        "import string\n",
        "import numpy as np\n",
        "\n",
        "# Package for Data Plotting\n",
        "import matplotlib.pyplot as plt\n",
        "import seaborn as sns\n",
        "from pygments import highlight\n",
        "from pygments.lexers import JsonLexer\n",
        "from pygments.formatters import TerminalFormatter\n",
        "\n",
        "# Package for Data Scrapping\n",
        "from google_play_scraper import app, Sort, reviews_all, reviews\n",
        "\n",
        "print(\"Process Completed!\")"
      ],
      "metadata": {
        "colab": {
          "base_uri": "https://localhost:8080/"
        },
        "id": "Jp3fYCPC_o9V",
        "outputId": "557bd73d-59dd-462c-9f42-e918f319c03d"
      },
      "execution_count": null,
      "outputs": [
        {
          "output_type": "stream",
          "name": "stdout",
          "text": [
            "Process Completed!\n"
          ]
        }
      ]
    },
    {
      "cell_type": "markdown",
      "source": [
        "# **Set-up Apps. URLs**"
      ],
      "metadata": {
        "id": "zwUkKokNzRsh"
      }
    },
    {
      "cell_type": "code",
      "source": [
        "# Set Apps. IDs from URLs\n",
        "#========================\n",
        "apps_package = ['mobileAppID1',      # Get mobile app ID from URLs and set into array\n",
        "                'mobileAppID2',      # You can get the URLs from official download page\n",
        "                'mobileAppID3']      # i.e. Google PlayStore / IOS AppStore\n",
        "\n",
        "# Example of Mobile App ID:\n",
        "# https://blablakwndklawnd.awdscs.awdaw/awdascafew/awdawdawd/awdsvdfgzrgseg/details?id=awdawdkakwdkawkdaw&hl=en&awdas44\n",
        "# Take this part for Mobile App ID >> awdawdkakwdkawkdaw ==============================/\\ /\\ /\\ /\\ /\\ /\\\n",
        "#                                                                                      || || || || || ||\n"
      ],
      "metadata": {
        "id": "1XzgfRZEzW-L"
      },
      "execution_count": null,
      "outputs": []
    },
    {
      "cell_type": "markdown",
      "source": [
        "# **Data Scrapping**"
      ],
      "metadata": {
        "id": "dQOU_J9UAYzB"
      }
    },
    {
      "cell_type": "markdown",
      "source": [
        "### **Get Apps. Information**"
      ],
      "metadata": {
        "id": "Heq1VY9RF86w"
      }
    },
    {
      "cell_type": "code",
      "source": [
        "# Scrap Apps. Information\n",
        "#========================\n",
        "apps_info = [] # Used to store apps. information\n",
        "\n",
        "for apps in tqdm(apps_package):\n",
        "  info = app(apps, lang = 'id', country = 'id') # Set boundaries for language and apps. country\n",
        "  del info['comments']                          # Delete un-used data column\n",
        "  apps_info.append(info)                        # Append apps. information into a single container"
      ],
      "metadata": {
        "id": "y4NvCZwB-dFw"
      },
      "execution_count": null,
      "outputs": []
    },
    {
      "cell_type": "code",
      "source": [
        "# Set Function To Print JSON in Better Format\n",
        "#============================================\n",
        "def print_json(json_object):\n",
        "  json_str = json.dumps(json_object,\n",
        "                        indent = 2,\n",
        "                        sort_keys = True,\n",
        "                        default = str)\n",
        "  print(highlight(json_str, JsonLexer(), TerminalFormatter()))\n",
        "\n",
        "# Test Call\n",
        "#==========\n",
        "print_json(apps_info)"
      ],
      "metadata": {
        "id": "48axWuLZFX8K"
      },
      "execution_count": null,
      "outputs": []
    },
    {
      "cell_type": "code",
      "source": [
        "# Set Function To Print Apps. Icon\n",
        "#=================================\n",
        "def format_title(title):\n",
        "  sep_index = title.find(':') if title.find(':') != -1 else title.find('-')\n",
        "  if sep_index != -1:\n",
        "    title = title[:sep_index]\n",
        "  return title[:10]\n",
        "\n",
        "# Set Icon Size & Position\n",
        "#=========================\n",
        "fig, axs = plt.subplots(2, len(apps_info) // 2, figsize=(14, 5))\n",
        "\n",
        "# Run Function\n",
        "#=============\n",
        "for i, ax in enumerate(axs.flat):\n",
        "  ai = apps_info[i]\n",
        "  img = plt.imread(ai['icon'])\n",
        "  ax.imshow(img)\n",
        "  ax.set_title(format_title(ai['title']))\n",
        "  ax.axis('off')"
      ],
      "metadata": {
        "id": "qKnbz8_lFywU"
      },
      "execution_count": null,
      "outputs": []
    },
    {
      "cell_type": "markdown",
      "source": [
        "### **Set Apps. Information To Dataframe**"
      ],
      "metadata": {
        "id": "dxjtXdzOGe_n"
      }
    },
    {
      "cell_type": "code",
      "source": [
        "# Convert Into Pandas Dataframe\n",
        "#==============================\n",
        "app_infos_df = pd.DataFrame(apps_info)\n",
        "\n",
        "# Test Call\n",
        "#==========\n",
        "app_infos_df"
      ],
      "metadata": {
        "id": "rF0NxEhHGZcz"
      },
      "execution_count": null,
      "outputs": []
    },
    {
      "cell_type": "markdown",
      "source": [
        "### **Scrapping Reviews**"
      ],
      "metadata": {
        "id": "pnsskkWaG8ge"
      }
    },
    {
      "cell_type": "code",
      "source": [
        "apps_reviews = [] # Used to store apps. reviews\n",
        "\n",
        "for app in tqdm(apps_package):\n",
        "  for score in list(range(1, 6)):                                       # Boundaries to make sure the data has rating level for mobile app\n",
        "    for sort_order in [Sort.MOST_RELEVANT, Sort.NEWEST]:                # Sort data to get the newest and most relevant\n",
        "      revs, _ = reviews(app,\n",
        "                        lang = 'id',                                    # Boundaries for apps. reviews language in Indonesia\n",
        "                        country = 'id',                                 # Boundaries for apps. reviews country from Indonesia only\n",
        "                        sort = sort_order,                              # Sort data base on review score\n",
        "                        count = 300 if score == 3 else 600,             # Set minimum data to be collected with specific score requirements for every page\n",
        "                        filter_score_with = score)\n",
        "\n",
        "      for rev in revs:\n",
        "        rev['sortOrder'] = 'most_relevant' if sort_order == Sort.MOST_RELEVANT else 'newest'\n",
        "        rev['appId'] = np.apply_over_axes\n",
        "      apps_reviews.extend(revs)"
      ],
      "metadata": {
        "id": "02RZ4KoKHHaO"
      },
      "execution_count": null,
      "outputs": []
    },
    {
      "cell_type": "code",
      "source": [
        "# Test Call\n",
        "#==========\n",
        "print_json(apps_reviews[0])"
      ],
      "metadata": {
        "id": "lb3qH-8zJCKv"
      },
      "execution_count": null,
      "outputs": []
    },
    {
      "cell_type": "code",
      "source": [
        "# Get The Total Apps. Review\n",
        "#=======================\n",
        "len(apps_reviews)"
      ],
      "metadata": {
        "id": "D5pZ1qn-JKOd"
      },
      "execution_count": null,
      "outputs": []
    },
    {
      "cell_type": "markdown",
      "source": [
        "### **Set Apps. Reviews To Dataframe**"
      ],
      "metadata": {
        "id": "AdX47Ga0HC_H"
      }
    },
    {
      "cell_type": "code",
      "source": [
        "# Set Into Pandas Dataframe\n",
        "#==========================\n",
        "app_reviews_df = pd.DataFrame(apps_reviews)"
      ],
      "metadata": {
        "id": "pLgyInLFHH9v"
      },
      "execution_count": null,
      "outputs": []
    },
    {
      "cell_type": "code",
      "source": [
        "# Test Call\n",
        "#==========\n",
        "app_reviews_df.head()"
      ],
      "metadata": {
        "id": "VpfREEEgLG6t"
      },
      "execution_count": null,
      "outputs": []
    },
    {
      "cell_type": "code",
      "source": [
        "# Get Only The Apps. Reviews & Scores\n",
        "#====================================\n",
        "appsReviewsDataframe = app_reviews_df.loc[:,[\"content\",\"score\"]]"
      ],
      "metadata": {
        "id": "L9wKoh5SrfYm"
      },
      "execution_count": null,
      "outputs": []
    },
    {
      "cell_type": "code",
      "source": [
        "# Test Call\n",
        "#==========\n",
        "appsReviewsDataframe"
      ],
      "metadata": {
        "id": "Q52IM8a8rf8l"
      },
      "execution_count": null,
      "outputs": []
    },
    {
      "cell_type": "code",
      "source": [
        "# Check Total Data Base On Score\n",
        "#===============================\n",
        "print(appsReviewsDataframe.count(), \"\\n\")\n",
        "print(\"Data Distribution:\\n==================\")\n",
        "print(appsReviewsDataframe.score.value_counts().sort_index())"
      ],
      "metadata": {
        "id": "3g9mX1gF2afd"
      },
      "execution_count": null,
      "outputs": []
    },
    {
      "cell_type": "markdown",
      "source": [
        "# **Data Cleaning**"
      ],
      "metadata": {
        "id": "z1Jg4zKT3DOt"
      }
    },
    {
      "cell_type": "code",
      "source": [
        "# Remove Duplicates Data\n",
        "#=======================\n",
        "newRevDF = appsReviewsDataframe.drop_duplicates('content', keep = 'first')\n",
        "\n",
        "# Reset Dataframe Index\n",
        "#======================\n",
        "newRevDF = newRevDF.reset_index(drop = True)\n",
        "\n",
        "# Remove URLs\n",
        "#============\n",
        "newRevDF['content'] = newRevDF['content'].apply(lambda x: re.sub(r'http\\S+\\s*','', str(x)))\n",
        "\n",
        "# Remove Mention, Hastag, & Special Character\n",
        "#============================================\n",
        "newRevDF['content'] = newRevDF['content'].apply(lambda x: re.sub(r'@[a-zA-Z_0-9]*','', str(x)))                    # User Mention\n",
        "newRevDF['content'] = newRevDF['content'].apply(lambda x: re.sub(r'#[a-zA-Z_0-9]*','', str(x)))                    # Hastga\n",
        "newRevDF['content'] = newRevDF['content'].apply(lambda x: re.sub(r'\\[UNAME\\]','', str(x), flags = re.IGNORECASE))  # Spec. Char.\n",
        "\n",
        "# Remove Emoji\n",
        "#=============\n",
        "def remove_emoji(string):\n",
        "    emoji_pattern = re.compile(\"[\"\n",
        "                               u\"\\U0001F600-\\U0001F64F\"  # emoticons\n",
        "                               u\"\\U0001F300-\\U0001F5FF\"  # symbols & pictographs\n",
        "                               u\"\\U0001F680-\\U0001F6FF\"  # transport & map symbols\n",
        "                               u\"\\U0001F1E0-\\U0001F1FF\"  # flags (iOS)\n",
        "                               u\"\\U00002500-\\U00002BEF\"  # chinese char\n",
        "                               u\"\\U00002702-\\U000027B0\"\n",
        "                               u\"\\U00002702-\\U000027B0\"\n",
        "                               u\"\\U000024C2-\\U0001F251\"\n",
        "                               u\"\\U0001f926-\\U0001f937\"\n",
        "                               u\"\\U00010000-\\U0010ffff\"\n",
        "                               u\"\\u2640-\\u2642\"\n",
        "                               u\"\\u2600-\\u2B55\"\n",
        "                               u\"\\u200d\"\n",
        "                               u\"\\u23cf\"\n",
        "                               u\"\\u23e9\"\n",
        "                               u\"\\u231a\"\n",
        "                               u\"\\ufe0f\"                 # dingbats\n",
        "                               u\"\\u3030\"\n",
        "                               \"]+\", flags=re.UNICODE)\n",
        "    return emoji_pattern.sub(r'', string)\n",
        "\n",
        "newRevDF['content'] = newRevDF['content'].apply(lambda x: remove_emoji(x))\n",
        "\n",
        "# Remove Dupes\n",
        "#=============\n",
        "newRevDF['content'] = newRevDF['content'].apply(lambda x: re.sub(r'(.{1,})\\1{2,}',r'\\1\\1', str(x)))\n",
        "\n",
        "# Remove \"\\n\" Or ENTER\n",
        "#=====================\n",
        "newRevDF['content'] = newRevDF['content'].apply(lambda x: x.replace('\\n', ' '))\n",
        "\n",
        "# Test Call\n",
        "#==========\n",
        "newRevDF"
      ],
      "metadata": {
        "id": "Rzw5bcDo3GjV"
      },
      "execution_count": null,
      "outputs": []
    },
    {
      "cell_type": "code",
      "source": [
        "# Check Total Data After Cleaning Process\n",
        "#========================================\n",
        "print(newRevDF.count(), \"\\n\")\n",
        "print(\"Data Distribution:\\n==================\")\n",
        "print(newRevDF.score.value_counts().sort_index())"
      ],
      "metadata": {
        "id": "Y3l_lsc3ylXF"
      },
      "execution_count": null,
      "outputs": []
    },
    {
      "cell_type": "markdown",
      "source": [
        "# **Split Data Based On Score**"
      ],
      "metadata": {
        "id": "S8_-PdT-5HOr"
      }
    },
    {
      "cell_type": "code",
      "source": [
        "# Split Data Process\n",
        "#===================\n",
        "df_Score1 = newRevDF[newRevDF[\"score\"]==1]\n",
        "df_Score2 = newRevDF[newRevDF[\"score\"]==2]\n",
        "df_Score3 = newRevDF[newRevDF[\"score\"]==3]\n",
        "df_Score4 = newRevDF[newRevDF[\"score\"]==4]\n",
        "df_Score5 = newRevDF[newRevDF[\"score\"]==5]"
      ],
      "metadata": {
        "id": "3cQ4G7-Q5J0a"
      },
      "execution_count": null,
      "outputs": []
    },
    {
      "cell_type": "code",
      "source": [
        "# Test Call\n",
        "#==========\n",
        "print(df_Score1.head())\n",
        "print(\"\\n====================================\\n\")\n",
        "print(df_Score2.head())\n",
        "print(\"\\n====================================\\n\")\n",
        "print(df_Score3.head())\n",
        "print(\"\\n====================================\\n\")\n",
        "print(df_Score4.head())\n",
        "print(\"\\n====================================\\n\")\n",
        "print(df_Score5.head())"
      ],
      "metadata": {
        "id": "LMIhqIC25guL"
      },
      "execution_count": null,
      "outputs": []
    },
    {
      "cell_type": "markdown",
      "source": [
        "# **Save To CSV File**"
      ],
      "metadata": {
        "id": "dE6fcEezQtIf"
      }
    },
    {
      "cell_type": "code",
      "source": [
        "df_Score1.to_csv('data\\save\\location\\data_1',\n",
        "                 sep = '\\t',\n",
        "                 index = None,\n",
        "                 header = True)\n",
        "\n",
        "df_Score2.to_csv('data\\save\\location\\data_2',\n",
        "                 sep = '\\t',\n",
        "                 index = None,\n",
        "                 header = True)\n",
        "\n",
        "df_Score3.to_csv('data\\save\\location\\data_3',\n",
        "                 sep = '\\t',\n",
        "                 index = None,\n",
        "                 header = True)\n",
        "\n",
        "df_Score4.to_csv('data\\save\\location\\data_4',\n",
        "                 sep = '\\t',\n",
        "                 index = None,\n",
        "                 header = True)\n",
        "\n",
        "df_Score5.to_csv('data\\save\\location\\data_5',\n",
        "                 sep = '\\t',\n",
        "                 index = None,\n",
        "                 header = True)"
      ],
      "metadata": {
        "id": "rW9i7q33vym1"
      },
      "execution_count": null,
      "outputs": []
    }
  ]
}